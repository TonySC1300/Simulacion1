{
  "nbformat": 4,
  "nbformat_minor": 0,
  "metadata": {
    "colab": {
      "provenance": [],
      "authorship_tag": "ABX9TyPJ+VC36EwcqN7nwichKUHw",
      "include_colab_link": true
    },
    "kernelspec": {
      "name": "python3",
      "display_name": "Python 3"
    },
    "language_info": {
      "name": "python"
    }
  },
  "cells": [
    {
      "cell_type": "markdown",
      "metadata": {
        "id": "view-in-github",
        "colab_type": "text"
      },
      "source": [
        "<a href=\"https://colab.research.google.com/github/TonySC1300/Simulacion1/blob/main/Simulacion(11-03-25)Pruebas_Racha.ipynb\" target=\"_parent\"><img src=\"https://colab.research.google.com/assets/colab-badge.svg\" alt=\"Open In Colab\"/></a>"
      ]
    },
    {
      "cell_type": "code",
      "execution_count": 8,
      "metadata": {
        "colab": {
          "base_uri": "https://localhost:8080/"
        },
        "id": "xd3NAYRUh_cY",
        "outputId": "50bd2dc4-58e5-4c33-f092-eca70f19544c"
      },
      "outputs": [
        {
          "output_type": "stream",
          "name": "stdout",
          "text": [
            "[1. 0. 1. 0. 1. 0. 1. 1. 0. 1. 1. 0. 0. 1. 1. 1. 1. 1. 0. 1. 0. 1. 1. 0.\n",
            " 0.]\n",
            "El numero de rachaz encontradas es:  16\n",
            "La media de rachaz es:  16.333333333333332 \n",
            "La varianza de la racha es:  4.122222222222222 \n",
            "Y el valor estandarizado es: -0.16417727582577904\n",
            "Ya que el valo de Z_o -0.16417727582577904 esta dentro del intervalo de aceptacion, no se rechaza (se acepta) la hipotesis nula H_0\n",
            "H_0: x_i son independientes\n"
          ]
        }
      ],
      "source": [
        "from math import sqrt\n",
        "import numpy as np\n",
        "\n",
        "# Pruebas de independencia\n",
        "# H_o:\n",
        "ceros = 0\n",
        "unos = 0\n",
        "ncorridas = 0\n",
        "individuales = 1\n",
        "media_C0 = 0\n",
        "varianza_C0 = 0\n",
        "lista = [0.048, 0.926, 0.368, 0.787, 0.298, 0.591, 0.007, 0.437, 0.594, 0.199, 0.478, 0.551, 0.178, 0.086, 0.157, 0.166, 0.362, 0.411, 0.951, 0.401, 0.932, 0.533, 0.545, 0.772, 0.631]\n",
        "corridas = np.zeros(25)\n",
        "\n",
        "# Conteo de los numeros dentro de cada clase con el ciclo for\n",
        "for i in range(len(lista)-1) :\n",
        "  if lista[i+1] > lista[i]:\n",
        "    corridas[i] =1\n",
        "    unos = unos +1\n",
        "  else:\n",
        "    if lista[i+1] < lista[i]:\n",
        "      corridas[i] =0\n",
        "      ceros = ceros +1\n",
        "\n",
        "for i in range(len(corridas)-1) :\n",
        "  if corridas[i] != corridas[i+1]:\n",
        "    individuales = individuales + 1\n",
        "\n",
        "\n",
        "print(corridas)\n",
        "#print(ncorridas)\n",
        "print(\"El numero de rachaz encontradas es: \", individuales)\n",
        "\n",
        "# Formula de media_(C_o)=\\frac{2n-1}{3}\n",
        "media_C0 = (2*len(lista)-1) / 3\n",
        "\n",
        "# Formula de varianza_(C_o)=\\frac{16n-29}{90}\n",
        "varianza_C0 = (16*len(lista)-29) / 90\n",
        "\n",
        "# Formula de Z_o=\\frac{C_0- \\mu * C_o}{\\sigma_{C_o}}\n",
        "# \\sigma_{C_o} = \\sqrt{varianza_{C_o}}\n",
        "# C_o es el numero de rachaz, \"individuales\"\n",
        "Z_0 = (individuales - media_C0) / sqrt(varianza_C0)\n",
        "\n",
        "# Imprimir resultados\n",
        "print(\"La media de rachaz es: \", media_C0, \"\\nLa varianza de la racha es: \", varianza_C0, \"\\nY el valor estandarizado es:\", Z_0)\n",
        "\n",
        "# Determinar si el valor esta dentro del intervalo de aceptacion o no\n",
        "if Z_0 > -1.96 and Z_0 < 1.96:\n",
        "  print(\"Ya que el valo de Z_o\", Z_0, \"esta dentro del intervalo de aceptacion, no se rechaza (se acepta) la hipotesis nula H_0\")\n",
        "  print(\"H_0: x_i son independientes\")\n",
        "else:\n",
        "  print(\"Ya que el valo de Z_o\", Z_0, \"esta fuera del intervalo de aceptacion, se rechaza la hipotesis nula H_0\")\n",
        "  print(\"H_0: x_i son independientes\")\n"
      ]
    }
  ]
}