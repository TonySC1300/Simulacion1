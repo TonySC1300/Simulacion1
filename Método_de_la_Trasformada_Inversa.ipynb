{
  "nbformat": 4,
  "nbformat_minor": 0,
  "metadata": {
    "colab": {
      "provenance": [],
      "authorship_tag": "ABX9TyNqrjedkTOZlgDxHYS0RZNY",
      "include_colab_link": true
    },
    "kernelspec": {
      "name": "python3",
      "display_name": "Python 3"
    },
    "language_info": {
      "name": "python"
    }
  },
  "cells": [
    {
      "cell_type": "markdown",
      "metadata": {
        "id": "view-in-github",
        "colab_type": "text"
      },
      "source": [
        "<a href=\"https://colab.research.google.com/github/TonySC1300/Simulacion1/blob/main/M%C3%A9todo_de_la_Trasformada_Inversa.ipynb\" target=\"_parent\"><img src=\"https://colab.research.google.com/assets/colab-badge.svg\" alt=\"Open In Colab\"/></a>"
      ]
    },
    {
      "cell_type": "markdown",
      "source": [
        "Elaborar un código en Python que implemente el método de la transformada inversa para generar la distribución triangular de parámetros a=1, b=3, c=5\n",
        "\n",
        "*   Analíticamente\n",
        "*   Mediante simulación\n",
        "\n",
        "Es necesario que el programa de explícitamente el resultado: histograma, media y desviación estándar y lo compare contra los resultados teóricos.\n"
      ],
      "metadata": {
        "id": "xjEXIQbQY1z_"
      }
    },
    {
      "cell_type": "markdown",
      "source": [
        "Calculando los valores analiticamente de la funcion:\n",
        "$$ f(x) =\n",
        "\\begin{cases}\n",
        "  \\frac{2\\cdot(x - a)}{(c - a)\\cdot(b - a)} & \\text{si } a \\leq x \\leq b \\\\\n",
        "  \\frac{2\\cdot(c - x)}{(c - a)\\cdot(c - b)} & \\text{si } b < x \\leq c\n",
        "\\end{cases}\n",
        "$$"
      ],
      "metadata": {
        "id": "7nT6CVZ-Mllo"
      }
    },
    {
      "cell_type": "code",
      "source": [
        "# Importando las librerias necesarias para hacer el\n",
        "# calculo de la integral sin conocer los valores de las constantes, a, b, c\n",
        "from sympy import symbols\n",
        "from sympy import Piecewise\n",
        "from sympy import integrate\n",
        "from sympy import simplify\n",
        "from sympy import pprint"
      ],
      "metadata": {
        "id": "XBR2pY85Mj3Y"
      },
      "execution_count": 55,
      "outputs": []
    },
    {
      "cell_type": "code",
      "source": [
        "# Variables simbólicas\n",
        "x, a, b, c = symbols('x a b c', real=True)"
      ],
      "metadata": {
        "id": "-rlpeEr2MyZ0"
      },
      "execution_count": 56,
      "outputs": []
    },
    {
      "cell_type": "code",
      "source": [
        "# Definir función por tramos\n",
        "f1 = 2 * (x - a) / ((c - a) * (b - a))  # a ≤ x ≤ b\n",
        "f2 = 2 * (c - x) / ((c - a) * (c - b))  # b < x ≤ c"
      ],
      "metadata": {
        "id": "kuK3vXiGM1eW"
      },
      "execution_count": 57,
      "outputs": []
    },
    {
      "cell_type": "code",
      "source": [
        "# Calcular la media\n",
        "media_alg = integrate(x * f1, (x, a, b)) + integrate(x * f2, (x, b, c))"
      ],
      "metadata": {
        "id": "z6s_ZZwjM4bX"
      },
      "execution_count": 58,
      "outputs": []
    },
    {
      "cell_type": "code",
      "source": [
        "# Calcular E[X²]\n",
        "ex2 = integrate(x**2 * f1, (x, a, b)) + integrate(x**2 * f2, (x, b, c))"
      ],
      "metadata": {
        "id": "OrwPj01fM7aK"
      },
      "execution_count": 59,
      "outputs": []
    },
    {
      "cell_type": "code",
      "source": [
        "# Varianza\n",
        "varianza_alg = simplify(ex2 - media_alg**2)"
      ],
      "metadata": {
        "id": "W8o3wSKbNEzS"
      },
      "execution_count": 60,
      "outputs": []
    },
    {
      "cell_type": "code",
      "source": [
        "# Desviacion estandar\n",
        "desviacion_alg = simplify(varianza_alg**0.5)"
      ],
      "metadata": {
        "id": "E5mHNsqhdROQ"
      },
      "execution_count": 61,
      "outputs": []
    },
    {
      "cell_type": "code",
      "source": [
        "# Mostrar resultados\n",
        "print(\"Media:\")\n",
        "print(simplify(media_alg))\n",
        "\n",
        "print(\"\\nVarianza:\")\n",
        "print(varianza_alg)\n",
        "\n",
        "print(\"\\nDesviación estándar:\")\n",
        "print(desviacion_alg)"
      ],
      "metadata": {
        "colab": {
          "base_uri": "https://localhost:8080/"
        },
        "id": "Ghh5zcsDNKEI",
        "outputId": "0a0dbaf2-f840-44ae-a4d4-ad6065e9d20a"
      },
      "execution_count": 62,
      "outputs": [
        {
          "output_type": "stream",
          "name": "stdout",
          "text": [
            "Media:\n",
            "a/3 + b/3 + c/3\n",
            "\n",
            "Varianza:\n",
            "a**2/18 - a*b/18 - a*c/18 + b**2/18 - b*c/18 + c**2/18\n",
            "\n",
            "Desviación estándar:\n",
            "0.235702260395516*(a**2 - a*b - a*c + b**2 - b*c + c**2)**0.5\n"
          ]
        }
      ]
    },
    {
      "cell_type": "markdown",
      "source": [
        "Ahora calculando la media y varianza de la funcion de forma analitica con los valores\n",
        "$$a=1, b=3, c=5$$"
      ],
      "metadata": {
        "id": "02-MSreGQkX2"
      }
    },
    {
      "cell_type": "code",
      "source": [
        "# Definir variables y constantes\n",
        "x = symbols('x', real=True)\n",
        "a = 1\n",
        "b = 3\n",
        "c = 5"
      ],
      "metadata": {
        "id": "f1OoGA7YQxdu"
      },
      "execution_count": 63,
      "outputs": []
    },
    {
      "cell_type": "code",
      "source": [
        "# Definir las dos partes de la función triangular\n",
        "f1 = 2 * (x - a) / ((c - a) * (b - a))  # para x en [a, b]\n",
        "f2 = 2 * (c - x) / ((c - a) * (c - b))  # para x en [b, c]"
      ],
      "metadata": {
        "id": "SyeMWPDnQ1ha"
      },
      "execution_count": 64,
      "outputs": []
    },
    {
      "cell_type": "code",
      "source": [
        "# Calcular la media\n",
        "media = integrate(x * f1, (x, a, b)) + integrate(x * f2, (x, b, c))\n",
        "\n",
        "# Calcular E[X²]\n",
        "ex2 = integrate(x**2 * f1, (x, a, b)) + integrate(x**2 * f2, (x, b, c))\n",
        "\n",
        "# Varianza: E[X^2] - (E[X])^2\n",
        "varianza = simplify(ex2 - media**2)\n",
        "\n",
        "# Desviacion estandar\n",
        "desviacion = simplify(varianza**0.5)\n",
        "\n",
        "print(\"La media calculada analitica es: \", media)\n",
        "print(\"La varianza calculada analiticamente es: \", varianza)\n",
        "print(\"La desviacion estandar calculada analiticamente es: \", desviacion)"
      ],
      "metadata": {
        "colab": {
          "base_uri": "https://localhost:8080/"
        },
        "id": "If7b-D7ZQ4zn",
        "outputId": "9e4e1ffd-986b-44d5-85ed-5d22f74a80ef"
      },
      "execution_count": 65,
      "outputs": [
        {
          "output_type": "stream",
          "name": "stdout",
          "text": [
            "La media calculada analitica es:  3\n",
            "La varianza calculada analiticamente es:  2/3\n",
            "La desviacion estandar calculada analiticamente es:  0.816496580927726\n"
          ]
        }
      ]
    },
    {
      "cell_type": "markdown",
      "source": [
        "Calculando la transformada inversa sin conocer los valores de las constantes"
      ],
      "metadata": {
        "id": "ODe7toiERA8G"
      }
    },
    {
      "cell_type": "code",
      "source": [
        "# Importando las librerias necesarias para hacer el\n",
        "# calculo de la transformada inversa sin conocer los valores\n",
        "# de las constantes, a, b, c\n",
        "from sympy import symbols\n",
        "from sympy import integrate\n",
        "from sympy import solve\n",
        "from sympy import Eq\n",
        "from sympy import simplify"
      ],
      "metadata": {
        "id": "T_3NlokUS5Bk"
      },
      "execution_count": 66,
      "outputs": []
    },
    {
      "cell_type": "code",
      "source": [
        "# Calculando la transformada inversa de cada una\n",
        "# de las partes de la funcion a trozos\n",
        "# Definir variables simbólicas\n",
        "x, u, a, b, c = symbols('x u a b c', real=True)\n",
        "\n",
        "# f(x) en [a, b]\n",
        "f1 = 2 * (x - a) / ((c - a) * (b - a))\n",
        "F1 = simplify(integrate(f1, (x, a, x)))  # CDF en [a, b]\n",
        "\n",
        "# f(x) en (b, c]\n",
        "f2 = 2 * (c - x) / ((c - a) * (c - b))\n",
        "F2 = simplify(integrate(f1, (x, a, b)) + integrate(f2, (x, b, x)))  # CDF en [b, c]"
      ],
      "metadata": {
        "id": "LDtaGiDbW9m-"
      },
      "execution_count": 67,
      "outputs": []
    },
    {
      "cell_type": "code",
      "source": [
        "# Resolviendo y despejando\n",
        "# Inversa de la CDF (resolver F(x) = u)\n",
        "x1_inv = solve(Eq(F1, u), x)[0]  # Inversa en [a, b]\n",
        "x2_inv = solve(Eq(F2, u), x)[0]  # Inversa en (b, c]\n",
        "\n",
        "print(\"La inversa de la CDF en [a, b] es: \", x1_inv)\n",
        "print(\"La inversa de la CDF en (b, c] es: \", x2_inv)"
      ],
      "metadata": {
        "colab": {
          "base_uri": "https://localhost:8080/"
        },
        "id": "9vJwWrNyXZZa",
        "outputId": "e17a20e5-366d-4988-b16a-61e76fb3510a"
      },
      "execution_count": 68,
      "outputs": [
        {
          "output_type": "stream",
          "name": "stdout",
          "text": [
            "La inversa de la CDF en [a, b] es:  a - sqrt(u*(a - b)*(a - c))\n",
            "La inversa de la CDF en (b, c] es:  c - sqrt(-(a - c)*(b - c)*(u - 1))\n"
          ]
        }
      ]
    },
    {
      "cell_type": "markdown",
      "source": [
        "Ahora calculando la transformada inversa de la funcion de forma analitica con los valores\n",
        "$$a=1, b=3, c=5$$"
      ],
      "metadata": {
        "id": "bc68hGYsYnhS"
      }
    },
    {
      "cell_type": "code",
      "source": [
        "from sympy import symbols\n",
        "from sympy import sqrt\n",
        "from sympy import simplify"
      ],
      "metadata": {
        "id": "qRgC6N-ATUDd"
      },
      "execution_count": 69,
      "outputs": []
    },
    {
      "cell_type": "code",
      "source": [
        "# Variables\n",
        "u = symbols('u', real=True)\n",
        "a_val = 1\n",
        "b_val = 3\n",
        "c_val = 5"
      ],
      "metadata": {
        "id": "o6ypbl8mY7vc"
      },
      "execution_count": 70,
      "outputs": []
    },
    {
      "cell_type": "code",
      "source": [
        "# Inversas con valores específicos\n",
        "x1_inv_val = a_val - sqrt(u * (a_val - b_val) * (a_val - c_val))\n",
        "x2_inv_val = c_val - sqrt(-(a_val - c_val) * (b_val - c_val) * (u - 1))"
      ],
      "metadata": {
        "id": "s39qH3iEY_JU"
      },
      "execution_count": 71,
      "outputs": []
    },
    {
      "cell_type": "code",
      "source": [
        "# Simplificar expresiones\n",
        "x1_inv_val = simplify(x1_inv_val)\n",
        "x2_inv_val = simplify(x2_inv_val)\n",
        "\n",
        "print(\"La inversa de la CDF en [a, b] es: \", x1_inv_val)\n",
        "print(\"La inversa de la CDF en (b, c] es: \", x2_inv_val)"
      ],
      "metadata": {
        "colab": {
          "base_uri": "https://localhost:8080/"
        },
        "id": "tX5gVZGKZBQb",
        "outputId": "fc48576e-126b-420d-df92-6928a34b9ee2"
      },
      "execution_count": 72,
      "outputs": [
        {
          "output_type": "stream",
          "name": "stdout",
          "text": [
            "La inversa de la CDF en [a, b] es:  -2*sqrt(2)*sqrt(u) + 1\n",
            "La inversa de la CDF en (b, c] es:  5 - 2*sqrt(2 - 2*u)\n"
          ]
        }
      ]
    },
    {
      "cell_type": "markdown",
      "source": [
        "Calculando los valores de la media y la varianza mediante simulacion por el *Método de la Trasformada Inversa*"
      ],
      "metadata": {
        "id": "gwkZg0IjZpyE"
      }
    },
    {
      "cell_type": "code",
      "execution_count": 73,
      "metadata": {
        "id": "IEt7_bwpVi-i"
      },
      "outputs": [],
      "source": [
        "# Importando las librerias necesarias\n",
        "# para hacer la simulacion y graficar el histograma\n",
        "import random as rd\n",
        "import matplotlib.pyplot as plt\n",
        "import numpy as np"
      ]
    },
    {
      "cell_type": "code",
      "source": [
        "# Definiendo la funcion para calcular el valor aleatorio de x\n",
        "def tri(n):\n",
        "  # Declarando la lista donde se guardaran los valores de x\n",
        "    lista = []\n",
        "    for _ in range(n):\n",
        "      # Se genera un numero aleatorio y se calcula el valor de\n",
        "      # x dependiendo de en que intervalo caiga el numero generado,\n",
        "      # sera la funcion de transformada inversa que se deba de utilizar\n",
        "        R = rd.random()\n",
        "        if R < 0.5:\n",
        "            x = 1 + 2 * np.sqrt(2 * R)\n",
        "        else:\n",
        "            x = 5 - 2 * np.sqrt(2 * (1 - R))\n",
        "        lista.append(x)\n",
        "    return lista"
      ],
      "metadata": {
        "id": "_j3xIfWQVwpS"
      },
      "execution_count": 74,
      "outputs": []
    },
    {
      "cell_type": "code",
      "source": [
        "k= 100000\n",
        "var = tri(k) #Se generan 100,000 npumeros aleatorios con distribución triangular"
      ],
      "metadata": {
        "id": "iFkmN-RzV2n-"
      },
      "execution_count": 75,
      "outputs": []
    },
    {
      "cell_type": "code",
      "source": [
        "# Definir la función de densidad teórica para graficarla\n",
        "# y compararla contra el histograma\n",
        "def f(x):\n",
        "    if 1 <= x <= 3:\n",
        "        return 2 * (x - 1) / ((5 - 1) * (3 - 1))\n",
        "    elif 3 < x <= 5:\n",
        "        return 2 * (5 - x) / ((5 - 1) * (5 - 3))\n",
        "    else:\n",
        "        return 0"
      ],
      "metadata": {
        "id": "rkRI9nSXV4AC"
      },
      "execution_count": 76,
      "outputs": []
    },
    {
      "cell_type": "code",
      "source": [
        "# Vectorizar la función f para aplicarla a arrays\n",
        "f_vector = np.vectorize(f)"
      ],
      "metadata": {
        "id": "rLVuj8TYbi3x"
      },
      "execution_count": 77,
      "outputs": []
    },
    {
      "cell_type": "code",
      "source": [
        "# Crear puntos x y evaluar f(x)\n",
        "x_vals = np.linspace(1, 5, 500)\n",
        "y_vals = f_vector(x_vals)"
      ],
      "metadata": {
        "id": "ChVDXI4dblE4"
      },
      "execution_count": 78,
      "outputs": []
    },
    {
      "cell_type": "code",
      "source": [
        "# Graficar histograma y función teórica\n",
        "plt.hist(var, bins=200, density=True, alpha=0.6, label='Histograma')\n",
        "plt.plot(x_vals, y_vals, color='red', linewidth=2, label='Distribución triangular ')\n",
        "plt.title(\"Distribución Triangular (a=1, b=3, c=5)\")\n",
        "plt.xlabel(\"x\")\n",
        "plt.ylabel(\"Densidad\")\n",
        "plt.legend()\n",
        "plt.grid(True)\n",
        "plt.show()"
      ],
      "metadata": {
        "colab": {
          "base_uri": "https://localhost:8080/",
          "height": 472
        },
        "id": "XqFHCt_9bnC5",
        "outputId": "5bc04c4b-4aef-44e4-b39c-2615519dd00a"
      },
      "execution_count": 79,
      "outputs": [
        {
          "output_type": "display_data",
          "data": {
            "text/plain": [
              "<Figure size 640x480 with 1 Axes>"
            ],
            "image/png": "[encoded data removed]"
          },
          "metadata": {}
        }
      ]
    },
    {
      "cell_type": "code",
      "source": [
        "# Con la lista almacenada en la variable d\n",
        "# se calcula el valor aproximado de la media y la varianza\n",
        "print(\"Media aproximada: \", np.mean(var))\n",
        "print(\"Varianza aproximada: \", np.var(var))\n",
        "print(\"Desviacion estandar aproximada: \", np.std(var))\n",
        "# Se calcula la exactitud de los calculos hechos mediante\n",
        "# la simulacion contra los calculos hechos analiticamente\n",
        "E_abs_med = abs(np.mean(var)-media)\n",
        "E_abs_var = abs(np.var(var)-varianza)\n",
        "E_absa_des = abs(np.std(var)-desviacion)"
      ],
      "metadata": {
        "colab": {
          "base_uri": "https://localhost:8080/"
        },
        "id": "XtjVbTjIWChl",
        "outputId": "edcf4fb4-581c-4d48-a7b1-fd30df17c476"
      },
      "execution_count": 80,
      "outputs": [
        {
          "output_type": "stream",
          "name": "stdout",
          "text": [
            "Media aproximada:  2.9996440583474\n",
            "Varianza aproximada:  0.6639319796192543\n",
            "Desviacion estandar aproximada:  0.8148202130649769\n"
          ]
        }
      ]
    },
    {
      "cell_type": "code",
      "source": [
        "print(\"El error absoluto de la media son: \", E_abs_med)\n",
        "print(\"El porcentaje de aceptacion de la media es: \", abs(np.mean(var)/media)*100, \"%\")\n",
        "print(\"\\nEl error absoluto de la varianza son: \", E_abs_var)\n",
        "print(\"El porcentaje de aceptacion de la varianza es: \", abs(np.var(var)/varianza)*100, \"%\")\n",
        "print(\"\\nEl error absoluto de la desviacion estandar son: \", E_absa_des)\n",
        "print(\"El porcentaje de aceptacion de la desviacion estandar es: \", abs(np.std(var)/desviacion)*100, \"%\")"
      ],
      "metadata": {
        "colab": {
          "base_uri": "https://localhost:8080/"
        },
        "id": "fVK91Lq1WDg3",
        "outputId": "b0800fc0-4bd3-4205-dd86-0277f0eb9783"
      },
      "execution_count": 82,
      "outputs": [
        {
          "output_type": "stream",
          "name": "stdout",
          "text": [
            "El error absoluto de la media son:  0.000355941652599778\n",
            "El porcentaje de aceptacion de la media es:  99.9881352782467 %\n",
            "\n",
            "El error absoluto de la varianza son:  0.00273468704741231\n",
            "El porcentaje de aceptacion de la varianza es:  99.5897969428881 %\n",
            "\n",
            "El error absoluto de la desviacion estandar son:  0.00167636786274916\n",
            "El porcentaje de aceptacion de la desviacion estandar es:  99.7946877057532 %\n"
          ]
        }
      ]
    }
  ]
}