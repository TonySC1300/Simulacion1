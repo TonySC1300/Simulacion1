{
  "nbformat": 4,
  "nbformat_minor": 0,
  "metadata": {
    "colab": {
      "provenance": [],
      "authorship_tag": "ABX9TyNQjm+GT91sDGIvt4RTtIYE",
      "include_colab_link": true
    },
    "kernelspec": {
      "name": "python3",
      "display_name": "Python 3"
    },
    "language_info": {
      "name": "python"
    }
  },
  "cells": [
    {
      "cell_type": "markdown",
      "metadata": {
        "id": "view-in-github",
        "colab_type": "text"
      },
      "source": [
        "<a href=\"https://colab.research.google.com/github/TonySC1300/Simulacion1/blob/main/Simulacion(24_02_25).ipynb\" target=\"_parent\"><img src=\"https://colab.research.google.com/assets/colab-badge.svg\" alt=\"Open In Colab\"/></a>"
      ]
    },
    {
      "cell_type": "code",
      "execution_count": 1,
      "metadata": {
        "colab": {
          "base_uri": "https://localhost:8080/"
        },
        "id": "E1knxt6bq1yL",
        "outputId": "0272c75e-bbe1-4981-e6b8-27cdc9ef0fab"
      },
      "outputs": [
        {
          "output_type": "stream",
          "name": "stdout",
          "text": [
            "      i  X_n+1\n",
            "0     1     92\n",
            "1     2    127\n",
            "2     3    134\n",
            "3     4    281\n",
            "4     5     92\n",
            "..  ...    ...\n",
            "95   96    281\n",
            "96   97     92\n",
            "97   98    127\n",
            "98   99    134\n",
            "99  100    281\n",
            "\n",
            "[100 rows x 2 columns]\n",
            "El valor de la media es de:  158.71\n"
          ]
        }
      ],
      "source": [
        "import matplotlib.pyplot as plt\n",
        "import numpy as np\n",
        "import pandas as pd\n",
        "\n",
        "# Parámetros del generador congruencial\n",
        "a = 21\n",
        "c = 15\n",
        "m = 364  # 10^2+1\n",
        "X_0 = 21\n",
        "n = 100  # Cantidad de números a generar\n",
        "\n",
        "# Inicialización de la lista de valores generados\n",
        "valores = []\n",
        "X_n = X_0\n",
        "media = X_0\n",
        "\n",
        "for i in range(n):\n",
        "    X_n = (a * X_n + c) % m  # Fórmula del generador congruencial\n",
        "    media = media + X_n\n",
        "    valores.append(X_n)\n",
        "\n",
        "for i in range(n):\n",
        "    X_n = (a * X_n + c) % m  # Fórmula del generador congruencial\n",
        "    media = media + X_n\n",
        "    valores.append(X_n)\n",
        "\n",
        "# Crear DataFrame para mostrar en formato tabla\n",
        "df = pd.DataFrame({'i': range(1, n+1), 'X_n+1': valores})\n",
        "print(df)\n",
        "media2 = media/n\n",
        "print(\"El valor de la media es de: \", media2)\n",
        "\n",
        "\n",
        "# Graficar los puntos generados\n",
        "#plt.figure(figsize=(10, 4))\n",
        "#plt.plot(range(1, n+1), valores, marker='o', linestyle='-', color='b', label='Valores generados')\n",
        "#plt.xlabel('Iteración (i)')\n",
        "#plt.ylabel('X_n+1')\n",
        "#plt.title('Serie de números generados')\n",
        "#plt.legend()\n",
        "#plt.grid()\n",
        "#plt.show()\n",
        "\n",
        "# Crear histograma\n",
        "#plt.figure(figsize=(8, 4))\n",
        "#plt.hist(valores, bins=10, color='c', edgecolor='black', alpha=0.7)\n",
        "#plt.xlabel('Valor generado')\n",
        "#plt.ylabel('Frecuencia')\n",
        "#plt.title('Histograma de valores generados')\n",
        "#plt.grid(axis='y', linestyle='--', alpha=0.7)\n",
        "#plt.show()\n"
      ]
    }
  ]
}