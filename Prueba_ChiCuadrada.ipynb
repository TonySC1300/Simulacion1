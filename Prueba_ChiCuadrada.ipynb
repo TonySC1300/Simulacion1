{
  "nbformat": 4,
  "nbformat_minor": 0,
  "metadata": {
    "colab": {
      "provenance": [],
      "authorship_tag": "ABX9TyOuaqwI8T7ESzAx+xpWnEft",
      "include_colab_link": true
    },
    "kernelspec": {
      "name": "python3",
      "display_name": "Python 3"
    },
    "language_info": {
      "name": "python"
    }
  },
  "cells": [
    {
      "cell_type": "markdown",
      "metadata": {
        "id": "view-in-github",
        "colab_type": "text"
      },
      "source": [
        "<a href=\"https://colab.research.google.com/github/TonySC1300/Simulacion1/blob/main/Prueba_ChiCuadrada.ipynb\" target=\"_parent\"><img src=\"https://colab.research.google.com/assets/colab-badge.svg\" alt=\"Open In Colab\"/></a>"
      ]
    },
    {
      "cell_type": "code",
      "execution_count": null,
      "metadata": {
        "id": "wQXG8QYm1zEW"
      },
      "outputs": [],
      "source": [
        "import tabulate\n",
        "import matplotlib.pyplot as plt\n",
        "import numpy as np\n",
        "from scipy.stats import chi2\n",
        "\n",
        "# Definicion de las variables\n",
        "fO1= 0\n",
        "fO2= 0\n",
        "fO3= 0\n",
        "fO4= 0\n",
        "fO5= 0\n",
        "\n",
        "f_O = [fO1, fO2, fO3, fO4, fO5]\n",
        "f_e = [5, 5, 5, 5, 5]\n",
        "k = 4\n",
        "Diferencia_f = [0, 0, 0, 0, 0]\n",
        "Diferencia_f2 = [0, 0, 0, 0, 0]\n",
        "Cocientef2_entref_e = [0, 0, 0, 0, 0]\n",
        "sum = 0\n",
        "\n",
        "lista = [0.048, 0.591, 0.478, 0.166, 0.932, 0.926, 0.007, 0.551, 0.362, 0.533, 0.368, 0.437, 0.178, 0.411, 0.545, 0.787, 0.594, 0.086, 0.951, 0.772, 0.298, 0.199, 0.157, 0.401, 0.631]\n",
        "\n",
        "\n",
        "# Conteo de los numeros dentro de cada clase con el ciclo for\n",
        "for i in range(len(lista)) :\n",
        "  if lista[i] > 0 and lista[i] < 0.19999 :\n",
        "    fO1 = fO1 + 1\n",
        "  else :\n",
        "      if lista[i] > 0.2 and lista[i] < 0.39999 :\n",
        "        fO2 = fO2 + 1\n",
        "      else :\n",
        "        if lista[i] > 0.4 and lista[i] < 0.59999 :\n",
        "          fO3 = fO3 + 1\n",
        "        else :\n",
        "          if lista[i] > 0.6 and lista[i] < 0.79999 :\n",
        "            fO4 = fO4 + 1\n",
        "          else :\n",
        "            fO5 = fO5 + 1\n",
        "\n",
        "f_O[0] = fO1\n",
        "f_O[1] = fO2\n",
        "f_O[2] = fO3\n",
        "f_O[3] = fO4\n",
        "f_O[4] = fO5\n",
        "\n",
        "# Calculo del valor critico\n",
        "# Nivel de significancia del 95% → percentil del 95% (0.95)\n",
        "valor_critico = chi2.ppf(0.95, k)\n",
        "print(\"El valor critico es: \", valor_critico, \"con un nivel de significancia de 0.95 y k = \", k, \"grados de libertad\")\n",
        "\n",
        "# Calculo del valor de la diferenci entre frecuencia observada y frecuencia esperada para calcular el valor de chi^2\n",
        "for i in range(5):\n",
        "    Diferencia_f[i] = f_O[i] - f_e[i]\n",
        "    Diferencia_f2[i] = Diferencia_f[i] ** 2\n",
        "    Cocientef2_entref_e[i] = Diferencia_f2[i] / f_e[i]\n",
        "    sum += Cocientef2_entref_e[i]\n",
        "\n",
        "# Crear tabla con tabulate\n",
        "intervalos = [\"(0 - 0.19999)\", \"(0.2 - 0.39999)\", \"(0.4 - 0.59999)\", \"(0.6 - 0.79999)\", \"(0.8 - 1.0)\"]\n",
        "datos = list(zip(intervalos, f_O, f_e, Diferencia_f, Diferencia_f2, Cocientef2_entref_e))\n",
        "datos.append([\"chi^2\", \"\", \"\", \"\", \"\", sum])\n",
        "\n",
        "print(tabulate.tabulate(datos, headers=[\"Clases\", \"$f_o$\", \"$f_e$\", \"$f_o - f_e$\", \"$(f_o - f_e)^2$\", \"$((f_o - f_e)^2 / f_e)$\", \"chi^2\"], tablefmt=\"grid\"))\n",
        "\n",
        "# Determinar si la hipotesis nula es aceptada o rechazada\n",
        "if sum <= valor_critico:\n",
        "  print(\"Ya que: \", sum, \" < \", valor_critico, \"\\n = chi^2 < Valor critico\", \"\\nImplica que NO se rechaza la hipotesis nula H_o\")\n",
        "  print(\"H_o: No hay diferenia entre las proporciones de cada numero\")\n",
        "else:\n",
        "  print(\"Ya que: \", sum, \" > \", valor_critico, \"\\n = chi^2 > Valor critico\", \"\\nImplica que se rechaza la hipotesis nula H_o y nos quedamos con la hipotesis alternativa H_a\")\n",
        "  print(\"H_o: No hay diferenia entre las proporciones de cada numero\")\n",
        "  print(\"H_a: Existen diferenia entre las proporciones de cada numero\")"
      ]
    }
  ]
}