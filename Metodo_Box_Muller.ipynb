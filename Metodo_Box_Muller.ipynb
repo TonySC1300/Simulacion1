{
  "nbformat": 4,
  "nbformat_minor": 0,
  "metadata": {
    "colab": {
      "provenance": [],
      "authorship_tag": "ABX9TyNACqMQGWksQRPFW+DMJeyk",
      "include_colab_link": true
    },
    "kernelspec": {
      "name": "python3",
      "display_name": "Python 3"
    },
    "language_info": {
      "name": "python"
    }
  },
  "cells": [
    {
      "cell_type": "markdown",
      "metadata": {
        "id": "view-in-github",
        "colab_type": "text"
      },
      "source": [
        "<a href=\"https://colab.research.google.com/github/TonySC1300/Simulacion1/blob/main/Metodo_Box_Muller.ipynb\" target=\"_parent\"><img src=\"https://colab.research.google.com/assets/colab-badge.svg\" alt=\"Open In Colab\"/></a>"
      ]
    },
    {
      "cell_type": "markdown",
      "source": [
        "# Una nota sobre la generación de variables aleatorias normales\n",
        "\n",
        "**G. E. P. Box y Mervin E. Muller**  \n",
        "*The Annals of Mathematical Statistics*, Vol. 29, No. 2 (1958), pp. 610–611\n",
        "\n",
        "## Resumen\n",
        "\n",
        "Se presenta un método para generar variables aleatorias independientes con distribución normal estándar (media cero y varianza unitaria) a partir de variables aleatorias uniformemente distribuidas en el intervalo (0,1).\n",
        "\n",
        "## Introducción\n",
        "\n",
        "En muchas aplicaciones estadísticas y simulaciones, es necesario generar variables aleatorias con distribución normal. Aunque existen varios métodos para este propósito, algunos pueden ser computacionalmente ineficientes o complejos. Aquí se presenta un método sencillo y eficiente para generar pares de variables aleatorias independientes con distribución normal estándar utilizando variables aleatorias uniformes.\n",
        "\n",
        "## Método\n",
        "\n",
        "Sean $U_1$ y $U_2$ dos variables aleatorias independientes, cada una uniformemente distribuida en el intervalo (0,1). Definimos:\n",
        "\n",
        "$$\n",
        "Z_1 = \\sqrt{-2 \\ln U_1} \\cdot \\cos(2\\pi U_2)\n",
        "$$\n",
        "$$\n",
        "Z_2 = \\sqrt{-2 \\ln U_1} \\cdot \\sin(2\\pi U_2)\n",
        "$$\n",
        "\n",
        "Entonces, $Z_1$ y $Z_2$ son variables aleatorias independientes con distribución normal estándar.\n",
        "\n",
        "## Justificación\n",
        "\n",
        "Este resultado se basa en la transformación de coordenadas polares. La densidad conjunta de dos variables aleatorias independientes con distribución normal estándar es:\n",
        "\n",
        "$$\n",
        "f(x, y) = \\frac{1}{2\\pi} e^{-(x^2 + y^2)/2}\n",
        "$$\n",
        "\n",
        "Al transformar a coordenadas polares, con \\( x = r \\cos \\theta \\) y \\( y = r \\sin \\theta \\), la densidad conjunta se convierte en:\n",
        "\n",
        "$$\n",
        "f(r, \\theta) = \\frac{1}{2\\pi} e^{-r^2/2} \\cdot r\n",
        "$$\n",
        "\n",
        "La función de densidad marginal de \\( r \\) es:\n",
        "\n",
        "$$\n",
        "f(r) = r e^{-r^2/2}, \\quad r \\geq 0\n",
        "$$\n",
        "\n",
        "La función de distribución acumulada (CDF) de \\( r \\) es:\n",
        "\n",
        "$$\n",
        "F(r) = \\int_0^r s e^{-s^2/2} \\, ds = 1 - e^{-r^2/2}\n",
        "$$\n",
        "\n",
        "Por lo tanto, si $U_1$ es uniforme en (0,1), entonces $r = \\sqrt{-2 \\ln U_1}$ tiene la distribución deseada. Además, si $U_2$ es uniforme en (0,1), entonces $\\theta = 2\\pi U_2$ es uniforme en el intervalo (0, 2π). Así, al definir:\n",
        "\n",
        "$$\n",
        "Z_1 = \\sqrt{-2 \\ln U_1} \\cdot \\cos(2\\pi U_2)\n",
        "$$\n",
        "$$\n",
        "Z_2 = \\sqrt{-2 \\ln U_1} \\cdot \\sin(2\\pi U_2)\n",
        "$$\n",
        "\n",
        "obtenemos dos variables aleatorias independientes con distribución normal estándar.\n",
        "\n",
        "## Implementación\n",
        "\n",
        "Este método es computacionalmente eficiente y fácil de implementar. Requiere la generación de dos variables aleatorias uniformes y el cálculo de funciones logarítmicas, seno y coseno. Es especialmente útil en simulaciones donde se necesitan múltiples variables aleatorias normales.\n",
        "\n",
        "## Conclusión\n",
        "\n",
        "Se ha presentado un método sencillo y eficiente para generar pares de variables aleatorias independientes con distribución normal estándar a partir de variables aleatorias uniformes. Este método es útil en diversas aplicaciones estadísticas y simulaciones.\n"
      ],
      "metadata": {
        "id": "TJHffpoGeImo"
      }
    },
    {
      "cell_type": "code",
      "execution_count": 14,
      "metadata": {
        "id": "MoRA3i93eG9g"
      },
      "outputs": [],
      "source": [
        "# importando las librerias necesarias para generar numeros aleatorios\n",
        "# y graficar el histograma\n",
        "import numpy as np\n",
        "import matplotlib.pyplot as plt\n",
        "from random import random\n",
        "from scipy.stats import norm"
      ]
    },
    {
      "cell_type": "code",
      "source": [
        "# Definiendo la funcion para el Metodo de Box Muller\n",
        "def BMuller(n):\n",
        "  lista = []\n",
        "  # se declara el ciclo for para generar el par de numeros aleatorios\n",
        "  # y hacer las operaciones necesarias con estos numeros para retornar\n",
        "  # los valores de x e y n-veces\n",
        "  for _ in range(n):\n",
        "    # Se generan los numeros aleatorios\n",
        "    u1 = random()\n",
        "    u2 = random()\n",
        "    # Se asignan a R y \\theta los valores de las operaciones con\n",
        "    # los numeros aleatorios generados, mediante el uso de las\n",
        "    # formulas del metodo\n",
        "    R = np.sqrt(-2*np.log(u1))\n",
        "    theta = 2*np.pi*u2\n",
        "    # Se calculan del mismo modo los valores de x e y\n",
        "    x = R*np.cos(theta)\n",
        "    y = R*np.sin(theta)\n",
        "    # Se agregan los valores de x e y a la lista\n",
        "    lista.append(x)\n",
        "    lista.append(y)\n",
        "\n",
        "  return lista"
      ],
      "metadata": {
        "id": "5AVEZik7P3PJ"
      },
      "execution_count": 2,
      "outputs": []
    },
    {
      "cell_type": "code",
      "source": [
        "# Repitiendo 100,000 veces el experimento\n",
        "k = 100000\n",
        "var = BMuller(k)"
      ],
      "metadata": {
        "id": "HyiGuQ0jQ-Ma"
      },
      "execution_count": 21,
      "outputs": []
    },
    {
      "cell_type": "code",
      "source": [
        "# Graficar histograma y función teórica\n",
        "plt.hist(var, bins=100, density=True, alpha=0.6, label='Histograma')\n",
        "\n",
        "# Generar valores para el eje x dentro del rango de los datos\n",
        "x = np.linspace(min(var), max(var), 1000)\n",
        "\n",
        "# Calcular la función de densidad normal teórica\n",
        "pdf = norm.pdf(x, loc=0, scale=1)  # media=0, desviación estándar=1\n",
        "\n",
        "# Dibujar la curva teórica\n",
        "plt.plot(x, pdf, 'r-', label='Normal estándar teórica')\n",
        "plt.title(\"Distribución Normal Por Box-Muller\")\n",
        "plt.xlabel(\"x\")\n",
        "plt.ylabel(\"Densidad\")\n",
        "plt.legend()\n",
        "plt.grid(True)\n",
        "plt.show()"
      ],
      "metadata": {
        "colab": {
          "base_uri": "https://localhost:8080/",
          "height": 472
        },
        "id": "X_WVJ8veRUKh",
        "outputId": "4e5b9dbf-b3fd-47f7-f611-46d56055bbf7"
      },
      "execution_count": 22,
      "outputs": [
        {
          "output_type": "display_data",
          "data": {
            "text/plain": [
              "<Figure size 640x480 with 1 Axes>"
            ],
            "image/png": "[encoded data removed]"
          },
          "metadata": {}
        }
      ]
    },
    {
      "cell_type": "code",
      "source": [
        "# Con la lista almacenada en la variable d\n",
        "# se calcula el valor aproximado de la media y la varianza\n",
        "print(\"Media aproximada: \", np.mean(var))\n",
        "print(\"Varianza aproximada: \", np.var(var))\n",
        "print(\"Desviacion estandar aproximada: \", np.std(var))"
      ],
      "metadata": {
        "colab": {
          "base_uri": "https://localhost:8080/"
        },
        "id": "jEDoygWqSFlg",
        "outputId": "0c1844b7-7add-4696-b875-e20350deba9e"
      },
      "execution_count": 17,
      "outputs": [
        {
          "output_type": "stream",
          "name": "stdout",
          "text": [
            "Media aproximada:  -0.009541024543162194\n",
            "Varianza aproximada:  1.0054571521126945\n",
            "Desviacion estandar aproximada:  1.0027248636154857\n"
          ]
        }
      ]
    },
    {
      "cell_type": "code",
      "source": [
        "mu = 0\n",
        "sigma = 1\n",
        "\n",
        "# Se calcula la exactitud de los calculos hechos mediante\n",
        "# la simulacion contra los calculos hechos analiticamente\n",
        "E_abs_med = abs(np.mean(var)-mu)\n",
        "E_abs_var = abs(np.var(var)-sigma**2)\n",
        "E_absa_des = abs(np.std(var)-sigma)"
      ],
      "metadata": {
        "id": "h4GmwCdiW-cZ"
      },
      "execution_count": 18,
      "outputs": []
    },
    {
      "cell_type": "code",
      "source": [
        "print(\"El error absoluto de la media son: \", E_abs_med)\n",
        "\n",
        "print(\"\\nEl error absoluto de la varianza son: \", E_abs_var)\n",
        "\n",
        "print(\"\\nEl error absoluto de la desviacion estandar son: \", E_absa_des)\n"
      ],
      "metadata": {
        "colab": {
          "base_uri": "https://localhost:8080/"
        },
        "id": "4OaULKFzXjIS",
        "outputId": "bec8a21c-de48-47f5-97bd-ac9e4577b5e1"
      },
      "execution_count": 20,
      "outputs": [
        {
          "output_type": "stream",
          "name": "stdout",
          "text": [
            "El error absoluto de la media son:  0.009541024543162194\n",
            "\n",
            "El error absoluto de la varianza son:  0.0054571521126944855\n",
            "\n",
            "El error absoluto de la desviacion estandar son:  0.0027248636154857397\n"
          ]
        }
      ]
    }
  ]
}