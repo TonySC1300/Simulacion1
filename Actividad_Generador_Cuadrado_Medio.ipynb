{
  "nbformat": 4,
  "nbformat_minor": 0,
  "metadata": {
    "colab": {
      "provenance": [],
      "authorship_tag": "ABX9TyPwMTQ/kPNl7XyQUVZLldaj",
      "include_colab_link": true
    },
    "kernelspec": {
      "name": "python3",
      "display_name": "Python 3"
    },
    "language_info": {
      "name": "python"
    }
  },
  "cells": [
    {
      "cell_type": "markdown",
      "metadata": {
        "id": "view-in-github",
        "colab_type": "text"
      },
      "source": [
        "<a href=\"https://colab.research.google.com/github/TonySC1300/Simulacion1/blob/main/Actividad_Generador_Cuadrado_Medio.ipynb\" target=\"_parent\"><img src=\"https://colab.research.google.com/assets/colab-badge.svg\" alt=\"Open In Colab\"/></a>"
      ]
    },
    {
      "cell_type": "code",
      "execution_count": 14,
      "metadata": {
        "colab": {
          "base_uri": "https://localhost:8080/"
        },
        "id": "b5C1XmpxCXec",
        "outputId": "0912dfd9-43c1-428c-bb4a-88d8f22f4178"
      },
      "outputs": [
        {
          "output_type": "stream",
          "name": "stdout",
          "text": [
            "+-------------+-------------------+----------------------+\n",
            "|   Iteracion |   Numero Generado |   Numero Normalizado |\n",
            "+=============+===================+======================+\n",
            "|           0 |              5739 |               0.9361 |\n",
            "+-------------+-------------------+----------------------+\n",
            "|           1 |              9361 |               0.6283 |\n",
            "+-------------+-------------------+----------------------+\n",
            "|           2 |              6283 |               0.476  |\n",
            "+-------------+-------------------+----------------------+\n",
            "|           3 |              4760 |               0.6576 |\n",
            "+-------------+-------------------+----------------------+\n",
            "|           4 |              6576 |               0.2437 |\n",
            "+-------------+-------------------+----------------------+\n",
            "|           5 |              2437 |               0.9389 |\n",
            "+-------------+-------------------+----------------------+\n",
            "|           6 |              9389 |               0.1533 |\n",
            "+-------------+-------------------+----------------------+\n",
            "|           7 |              1533 |               0.35   |\n",
            "+-------------+-------------------+----------------------+\n",
            "|           8 |              3500 |               0.25   |\n",
            "+-------------+-------------------+----------------------+\n",
            "|           9 |              2500 |               0.25   |\n",
            "+-------------+-------------------+----------------------+\n",
            "\n",
            "Ciclo de vida del generador: 10 iteraciones\n"
          ]
        }
      ],
      "source": [
        "from tabulate import tabulate\n",
        "\n",
        "# Implementacion del Metodo del Cuadrado Medio para la generacion de numeros pseudoaleatorios\n",
        "# Propuesto por John von Neumann en 1949, este metodo se basa en elevar al cuadrado un numero semilla\n",
        "# y extraer los digitos centrales para obtener la siguiente semilla\n",
        "\n",
        "def cuadrado_medio(semilla, d):\n",
        "    \"\"\"\n",
        "    Genera una secuencia de numeros pseudoaleatorios utilizando el metodo del Cuadrado Medio e imprime su ciclo de vida.\n",
        "\n",
        "    :param semilla: Numero inicial (debe contener un numero par de digitos)\n",
        "    :param d: Numero de digitos que se extraeran del cuadrado\n",
        "    \"\"\"\n",
        "    numeros_generados = []  # Lista para almacenar los numeros generados\n",
        "    tabla = []  # Contiene los resultados en formato de tabla\n",
        "    iteracion = 0\n",
        "\n",
        "    while semilla not in numeros_generados:\n",
        "        numeros_generados.append(semilla)  # Se registra el numero generado\n",
        "        cuadrado = str(semilla ** 2).zfill(2 * d)  # Se eleva al cuadrado y se completa con ceros si es necesario\n",
        "        nuevo_valor = int(cuadrado[len(cuadrado)//2 - d//2 : len(cuadrado)//2 + d//2])  # Extraccion de digitos centrales\n",
        "        numero_normalizado = nuevo_valor / (10 ** d)  # Normalizacion del numero dividiendolo por 10^d\n",
        "        tabla.append([iteracion, semilla, numero_normalizado])\n",
        "\n",
        "        semilla = nuevo_valor\n",
        "        iteracion += 1\n",
        "\n",
        "    # Determinar el ciclo de vida\n",
        "    ciclo_vida = iteracion  # La cantidad de numeros generados antes de la repeticion\n",
        "\n",
        "    # Impresion de la tabla con los valores generados\n",
        "    print(tabulate(tabla, headers=[\"Iteracion\", \"Numero Generado\", \"Numero Normalizado\"], tablefmt=\"grid\"))\n",
        "\n",
        "    # Impresion del ciclo de vida\n",
        "    print(f\"\\nCiclo de vida del generador: {ciclo_vida} iteraciones\")\n",
        "\n",
        "# Parametros del metodo\n",
        "semilla_inicial = 5739  # La semilla debe contener un numero par de digitos\n",
        "num_digitos = 4  # Cantidad de digitos extraidos del cuadrado\n",
        "\n",
        "# Ejecucion del metodo\n",
        "cuadrado_medio(semilla_inicial, num_digitos)\n"
      ]
    }
  ]
}