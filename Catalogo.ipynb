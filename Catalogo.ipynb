{
  "nbformat": 4,
  "nbformat_minor": 0,
  "metadata": {
    "colab": {
      "provenance": [],
      "authorship_tag": "ABX9TyPbop4lLa9aNtn/+RDCL4hq",
      "include_colab_link": true
    },
    "kernelspec": {
      "name": "python3",
      "display_name": "Python 3"
    },
    "language_info": {
      "name": "python"
    }
  },
  "cells": [
    {
      "cell_type": "markdown",
      "metadata": {
        "id": "view-in-github",
        "colab_type": "text"
      },
      "source": [
        "<a href=\"https://colab.research.google.com/github/TonySC1300/Simulacion1/blob/main/Catalogo.ipynb\" target=\"_parent\"><img src=\"https://colab.research.google.com/assets/colab-badge.svg\" alt=\"Open In Colab\"/></a>"
      ]
    },
    {
      "cell_type": "markdown",
      "source": [
        "# Distribuciones continuas\n",
        "## Distribución Uniforme Continua $U \\sim (0,1)$\n",
        "### Función de Densidad de Probabilidad (PDF)\n",
        "\n",
        "$$\n",
        "f(x) =\n",
        "\\begin{cases}\n",
        "\\frac{1}{b - a}, & \\text{si } a \\leq x \\leq b \\\\\n",
        "0, & \\text{en otro caso}\n",
        "\\end{cases}\n",
        "$$\n",
        "\n",
        "![fUniforme.gif](data:image/gif;base64,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)\n",
        "\n",
        "### Función de Distribución Acumulada (CDF)\n",
        "\n",
        "$$\n",
        "F(x) =\n",
        "\\begin{cases}\n",
        "0, & \\text{si } x < a \\\\\n",
        "\\frac{x - a}{b - a}, & \\text{si } a \\leq x \\leq b \\\\\n",
        "1, & \\text{si } x > b\n",
        "\\end{cases}\n",
        "$$\n",
        "\n",
        "### Media\n",
        "\n",
        "$$\n",
        "\\mu = \\mathbb{E}[X] = \\frac{a + b}{2}\n",
        "$$\n",
        "\n",
        "### Varianza\n",
        "\n",
        "$$\n",
        "\\text{Var}(X) = \\frac{(b - a)^2}{12}\n",
        "$$\n",
        "\n",
        "### Desviación Estándar\n",
        "\n",
        "$$\n",
        "\\sigma = \\sqrt{Var(X)} = \\frac{b - a}{\\sqrt{12}}\n",
        "$$\n",
        "\n",
        "### Pseudocodigo\n",
        "\n",
        "Entradas:\n",
        "\n",
        "a: límite inferior\n",
        "\n",
        "b: límite superior\n",
        "\n",
        "Procedimiento:\n",
        "\n",
        "1. Generar un número aleatorio R entre $0$ y $1$ $(R \\sim U(0,1))$\n",
        "2. Calcular X = a + (b - a) * R\n",
        "3. Retornar X\n"
      ],
      "metadata": {
        "id": "XTwGpGCOisFQ"
      }
    },
    {
      "cell_type": "code",
      "source": [
        "import numpy as np\n",
        "import matplotlib.pyplot as plt\n",
        "from random import random"
      ],
      "metadata": {
        "id": "RhDb2KmwnLai"
      },
      "execution_count": 1,
      "outputs": []
    },
    {
      "cell_type": "code",
      "source": [
        "a = 2\n",
        "b = 7"
      ],
      "metadata": {
        "id": "U-rxU9ECndj5"
      },
      "execution_count": 2,
      "outputs": []
    },
    {
      "cell_type": "code",
      "source": [
        "# Teóricos\n",
        "media_teo = (a + b) / 2\n",
        "var_teo = (b - a)**2 / 12\n",
        "std_teo = np.sqrt(var_teo)"
      ],
      "metadata": {
        "id": "hF9Z3zhUpD8B"
      },
      "execution_count": 3,
      "outputs": []
    },
    {
      "cell_type": "code",
      "source": [
        "def simular_uniforme(n):\n",
        "  lista = []\n",
        "  for _ in range(n):\n",
        "    R = random()\n",
        "    x = a + (b - a) * R\n",
        "    lista.append(x)\n",
        "  return lista"
      ],
      "metadata": {
        "id": "iH_wxz4enQm_"
      },
      "execution_count": 4,
      "outputs": []
    },
    {
      "cell_type": "code",
      "source": [
        "k = 100000\n",
        "\n",
        "# Llamada a la función\n",
        "d = simular_uniforme(k)"
      ],
      "metadata": {
        "id": "jz2jeamAoxGk"
      },
      "execution_count": 5,
      "outputs": []
    },
    {
      "cell_type": "code",
      "source": [
        "media_emp = np.mean(d)\n",
        "var_emp = np.var(d)\n",
        "std_emp = np.std(d)"
      ],
      "metadata": {
        "id": "fF-O7WzzpIdF"
      },
      "execution_count": 6,
      "outputs": []
    },
    {
      "cell_type": "code",
      "source": [
        "# Imprimir resultados\n",
        "print(f\"Intervalo: [{a}, {b}] con {k} simulaciones\")\n",
        "print(f\"Media teórica: {media_teo:.4f} | Empírica: {media_emp:.4f}\")\n",
        "print(f\"Varianza teórica: {var_teo:.4f} | Empírica: {var_emp:.4f}\")\n",
        "print(f\"Desviación estándar teórica: {std_teo:.4f} | Empírica: {std_emp:.4f}\")\n",
        "print(\"\")"
      ],
      "metadata": {
        "colab": {
          "base_uri": "https://localhost:8080/"
        },
        "id": "2R0MDsncn6uX",
        "outputId": "1c62caa1-d4e9-4010-c4c3-951be745865f"
      },
      "execution_count": 7,
      "outputs": [
        {
          "output_type": "stream",
          "name": "stdout",
          "text": [
            "Intervalo: [2, 7] con 100000 simulaciones\n",
            "Media teórica: 4.5000 | Empírica: 4.4932\n",
            "Varianza teórica: 2.0833 | Empírica: 2.0773\n",
            "Desviación estándar teórica: 1.4434 | Empírica: 1.4413\n",
            "\n"
          ]
        }
      ]
    },
    {
      "cell_type": "code",
      "source": [
        "plt.hist(d)\n",
        "plt.show"
      ],
      "metadata": {
        "colab": {
          "base_uri": "https://localhost:8080/",
          "height": 599
        },
        "id": "TzVfIUFrnuaJ",
        "outputId": "4a7c79af-8a06-47f1-e53d-b666d67315aa"
      },
      "execution_count": 8,
      "outputs": [
        {
          "output_type": "execute_result",
          "data": {
            "text/plain": [
              "<function matplotlib.pyplot.show(close=None, block=None)>"
            ],
            "text/html": [
              "<div style=\"max-width:800px; border: 1px solid var(--colab-border-color);\"><style>\n",
              "      pre.function-repr-contents {\n",
              "        overflow-x: auto;\n",
              "        padding: 8px 12px;\n",
              "        max-height: 500px;\n",
              "      }\n",
              "\n",
              "      pre.function-repr-contents.function-repr-contents-collapsed {\n",
              "        cursor: pointer;\n",
              "        max-height: 100px;\n",
              "      }\n",
              "    </style>\n",
              "    <pre style=\"white-space: initial; background:\n",
              "         var(--colab-secondary-surface-color); padding: 8px 12px;\n",
              "         border-bottom: 1px solid var(--colab-border-color);\"><b>matplotlib.pyplot.show</b><br/>def show(*args, **kwargs) -&gt; None</pre><pre class=\"function-repr-contents function-repr-contents-collapsed\" style=\"\"><a class=\"filepath\" style=\"display:none\" href=\"#\">/usr/local/lib/python3.11/dist-packages/matplotlib/pyplot.py</a>Display all open figures.\n",
              "\n",
              "Parameters\n",
              "----------\n",
              "block : bool, optional\n",
              "    Whether to wait for all figures to be closed before returning.\n",
              "\n",
              "    If `True` block and run the GUI main loop until all figure windows\n",
              "    are closed.\n",
              "\n",
              "    If `False` ensure that all figure windows are displayed and return\n",
              "    immediately.  In this case, you are responsible for ensuring\n",
              "    that the event loop is running to have responsive figures.\n",
              "\n",
              "    Defaults to True in non-interactive mode and to False in interactive\n",
              "    mode (see `.pyplot.isinteractive`).\n",
              "\n",
              "See Also\n",
              "--------\n",
              "ion : Enable interactive mode, which shows / updates the figure after\n",
              "      every plotting command, so that calling ``show()`` is not necessary.\n",
              "ioff : Disable interactive mode.\n",
              "savefig : Save the figure to an image file instead of showing it on screen.\n",
              "\n",
              "Notes\n",
              "-----\n",
              "**Saving figures to file and showing a window at the same time**\n",
              "\n",
              "If you want an image file as well as a user interface window, use\n",
              "`.pyplot.savefig` before `.pyplot.show`. At the end of (a blocking)\n",
              "``show()`` the figure is closed and thus unregistered from pyplot. Calling\n",
              "`.pyplot.savefig` afterwards would save a new and thus empty figure. This\n",
              "limitation of command order does not apply if the show is non-blocking or\n",
              "if you keep a reference to the figure and use `.Figure.savefig`.\n",
              "\n",
              "**Auto-show in jupyter notebooks**\n",
              "\n",
              "The jupyter backends (activated via ``%matplotlib inline``,\n",
              "``%matplotlib notebook``, or ``%matplotlib widget``), call ``show()`` at\n",
              "the end of every cell by default. Thus, you usually don&#x27;t have to call it\n",
              "explicitly there.</pre>\n",
              "      <script>\n",
              "      if (google.colab.kernel.accessAllowed && google.colab.files && google.colab.files.view) {\n",
              "        for (const element of document.querySelectorAll('.filepath')) {\n",
              "          element.style.display = 'block'\n",
              "          element.onclick = (event) => {\n",
              "            event.preventDefault();\n",
              "            event.stopPropagation();\n",
              "            google.colab.files.view(element.textContent, 569);\n",
              "          };\n",
              "        }\n",
              "      }\n",
              "      for (const element of document.querySelectorAll('.function-repr-contents')) {\n",
              "        element.onclick = (event) => {\n",
              "          event.preventDefault();\n",
              "          event.stopPropagation();\n",
              "          element.classList.toggle('function-repr-contents-collapsed');\n",
              "        };\n",
              "      }\n",
              "      </script>\n",
              "      </div>"
            ]
          },
          "metadata": {},
          "execution_count": 8
        },
        {
          "output_type": "display_data",
          "data": {
            "text/plain": [
              "<Figure size 640x480 with 1 Axes>"
            ],
            "image/png": "[encoded data removed]"
          },
          "metadata": {}
        }
      ]
    }
  ]
}