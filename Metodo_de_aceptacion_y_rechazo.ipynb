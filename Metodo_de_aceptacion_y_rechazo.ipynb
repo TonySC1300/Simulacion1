{
  "nbformat": 4,
  "nbformat_minor": 0,
  "metadata": {
    "colab": {
      "provenance": [],
      "authorship_tag": "ABX9TyNWUKh4cmtYecZkkehtx2/d",
      "include_colab_link": true
    },
    "kernelspec": {
      "name": "python3",
      "display_name": "Python 3"
    },
    "language_info": {
      "name": "python"
    }
  },
  "cells": [
    {
      "cell_type": "markdown",
      "metadata": {
        "id": "view-in-github",
        "colab_type": "text"
      },
      "source": [
        "<a href=\"https://colab.research.google.com/github/TonySC1300/Simulacion1/blob/main/Metodo_de_aceptacion_y_rechazo.ipynb\" target=\"_parent\"><img src=\"https://colab.research.google.com/assets/colab-badge.svg\" alt=\"Open In Colab\"/></a>"
      ]
    },
    {
      "cell_type": "markdown",
      "source": [
        "Elaborar un código en Python que implemente el método de Aceptación y Rechazo para generar la distribución triangular de parámetros $a=1, b=3, c=5$\n",
        "\n",
        "*   Analíticamente\n",
        "*   Mediante simulación\n",
        "\n",
        "Es necesario que el programa de explícitamente el resultado: histograma, media y desviación estándar y lo compare contra los resultados teóricos.\n"
      ],
      "metadata": {
        "id": "UQ4nOL-RD_b8"
      }
    },
    {
      "cell_type": "markdown",
      "source": [
        "Calculando los valores analiticamente de la funcion:\n",
        "$$ f(x) =\n",
        "\\begin{cases}\n",
        "  \\frac{2\\cdot(x - a)}{(c - a)\\cdot(b - a)} & \\text{si } a \\leq x \\leq b \\\\\n",
        "  \\frac{2\\cdot(c - x)}{(c - a)\\cdot(c - b)} & \\text{si } b < x \\leq c\n",
        "\\end{cases}\n",
        "$$"
      ],
      "metadata": {
        "id": "hxaa380tEy7H"
      }
    },
    {
      "cell_type": "code",
      "source": [
        "# Importando las librerias necesarias para hacer el\n",
        "# calculo de la integral sin conocer los valores de las constantes, a, b, c\n",
        "from sympy import symbols\n",
        "from sympy import Piecewise\n",
        "from sympy import integrate\n",
        "from sympy import simplify\n",
        "from sympy import pprint"
      ],
      "metadata": {
        "id": "16hYA9tcHIe9"
      },
      "execution_count": 9,
      "outputs": []
    },
    {
      "cell_type": "code",
      "source": [
        "# Variables simbólicas\n",
        "x, a, b, c = symbols('x a b c', real=True)"
      ],
      "metadata": {
        "id": "LLZtihXHHMGl"
      },
      "execution_count": 10,
      "outputs": []
    },
    {
      "cell_type": "code",
      "source": [
        "# Definir función por tramos\n",
        "f1 = 2 * (x - a) / ((c - a) * (b - a))  # a ≤ x ≤ b\n",
        "f2 = 2 * (c - x) / ((c - a) * (c - b))  # b < x ≤ c"
      ],
      "metadata": {
        "id": "RhVkgqCbHRlg"
      },
      "execution_count": 11,
      "outputs": []
    },
    {
      "cell_type": "code",
      "source": [
        "# Calcular la media\n",
        "media_alg = integrate(x * f1, (x, a, b)) + integrate(x * f2, (x, b, c))"
      ],
      "metadata": {
        "id": "vNw9WIYvHUx2"
      },
      "execution_count": 12,
      "outputs": []
    },
    {
      "cell_type": "code",
      "source": [
        "# Calcular E[X²]\n",
        "ex2 = integrate(x**2 * f1, (x, a, b)) + integrate(x**2 * f2, (x, b, c))"
      ],
      "metadata": {
        "id": "Bcr7X19WHW6z"
      },
      "execution_count": 13,
      "outputs": []
    },
    {
      "cell_type": "code",
      "source": [
        "# Varianza\n",
        "varianza_alg = simplify(ex2 - media_alg**2)"
      ],
      "metadata": {
        "id": "anCk4Zm7IvvO"
      },
      "execution_count": 14,
      "outputs": []
    },
    {
      "cell_type": "code",
      "source": [
        "# Mostrar resultados\n",
        "print(\"Media:\")\n",
        "print(simplify(media_alg))\n",
        "\n",
        "print(\"\\nVarianza:\")\n",
        "print(varianza_alg)"
      ],
      "metadata": {
        "colab": {
          "base_uri": "https://localhost:8080/"
        },
        "id": "qwb8TbjSHY8g",
        "outputId": "618e5d04-a88c-41a8-8b65-87c6b4b3c597"
      },
      "execution_count": 15,
      "outputs": [
        {
          "output_type": "stream",
          "name": "stdout",
          "text": [
            "Media:\n",
            "a/3 + b/3 + c/3\n",
            "\n",
            "Varianza:\n",
            "a**2/18 - a*b/18 - a*c/18 + b**2/18 - b*c/18 + c**2/18\n"
          ]
        }
      ]
    },
    {
      "cell_type": "markdown",
      "source": [
        "Ahora calculando la media y varianza de la funcion de forma analitica con los valores\n",
        "$$a=1, b=3, c=5$$"
      ],
      "metadata": {
        "id": "Ki2UcaB8JWci"
      }
    },
    {
      "cell_type": "code",
      "source": [
        "# Definir variables y constantes\n",
        "x = symbols('x', real=True)\n",
        "a = 1\n",
        "b = 3\n",
        "c = 5"
      ],
      "metadata": {
        "id": "yN38-vrZJg8n"
      },
      "execution_count": 16,
      "outputs": []
    },
    {
      "cell_type": "code",
      "source": [
        "# Definir las dos partes de la función triangular\n",
        "f1 = 2 * (x - a) / ((c - a) * (b - a))  # para x en [a, b]\n",
        "f2 = 2 * (c - x) / ((c - a) * (c - b))  # para x en [b, c]"
      ],
      "metadata": {
        "id": "cbsSUfS8J9aM"
      },
      "execution_count": 17,
      "outputs": []
    },
    {
      "cell_type": "code",
      "source": [
        "# Calcular la media\n",
        "media = integrate(x * f1, (x, a, b)) + integrate(x * f2, (x, b, c))\n",
        "\n",
        "# Calcular E[X²]\n",
        "ex2 = integrate(x**2 * f1, (x, a, b)) + integrate(x**2 * f2, (x, b, c))\n",
        "\n",
        "# Varianza: E[X^2] - (E[X])^2\n",
        "varianza = simplify(ex2 - media**2)\n",
        "\n",
        "print(\"La media calculada analitica,ente es: \", media)\n",
        "print(\"La varianza calculada analiticamente es: \", varianza)"
      ],
      "metadata": {
        "colab": {
          "base_uri": "https://localhost:8080/"
        },
        "id": "5ZBt7HHvJ_rV",
        "outputId": "4fd6a3bf-d09e-4609-a079-d42ed34cda34"
      },
      "execution_count": 18,
      "outputs": [
        {
          "output_type": "stream",
          "name": "stdout",
          "text": [
            "La media calculada analitica,ente es:  3\n",
            "La varianza calculada analiticamente es:  2/3\n"
          ]
        }
      ]
    },
    {
      "cell_type": "markdown",
      "source": [
        "Calculando los valores de la media y la varianza mediante simulacion por el metodo de *Aceptacion y rechazo*"
      ],
      "metadata": {
        "id": "xidQM324HaJ1"
      }
    },
    {
      "cell_type": "code",
      "execution_count": 19,
      "metadata": {
        "id": "Vnz74dfSkoSV"
      },
      "outputs": [],
      "source": [
        "# Importando las librerias necesarias\n",
        "# para hacer la simulacion y graficar el histograma\n",
        "import numpy as np\n",
        "import matplotlib.pyplot as plt\n",
        "from random import random"
      ]
    },
    {
      "cell_type": "code",
      "source": [
        "# Declarando las variables necesarias para hacer el calculo\n",
        "a = 1\n",
        "b = 3\n",
        "c = 5\n",
        "# Valor calculado previamente en clase, pero recordar que\n",
        "# se debe de hacer mediante el criterio de la primera y/o\n",
        "# segunda derivada para encontrar el punto maximo\n",
        "M = 2/(c-a)"
      ],
      "metadata": {
        "id": "Eg63DC-AlUxN"
      },
      "execution_count": 20,
      "outputs": []
    },
    {
      "cell_type": "code",
      "source": [
        "# Definiendo la funcion a trozos para ser evaluado\n",
        "def f(x):\n",
        "  if a <= x <= b:\n",
        "    return 2*(x - a)/((c - a)*(b - a))\n",
        "  elif b < x <= c:\n",
        "    return 2*(c - x)/((c - a)*(c - b))\n",
        "  else:\n",
        "    return 0 # En caso de que se genere un valor fuera del intervalo"
      ],
      "metadata": {
        "id": "MKu_cK6dk7cX"
      },
      "execution_count": 21,
      "outputs": []
    },
    {
      "cell_type": "code",
      "source": [
        "# Definiendo el metodo de aceptacion y rechazo\n",
        "def aceptacion(n):\n",
        "  # Se declara una lista donde se fuardara el valor de x generado\n",
        "  lista = []\n",
        "  for _ in range(n):\n",
        "    # Se generan dos numeros aleatorios para generar el numero\n",
        "    # aleatorio x mediante la operacion necesaria en el metodo\n",
        "    # y para ver si se cumple la condicional para agregar el\n",
        "    # numero aleatorio a la lista declarada previamente\n",
        "    R1 = random()\n",
        "    R2 = random()\n",
        "    x = a + (c-a)*R1\n",
        "    if R2 <= f(x)/M:\n",
        "      lista.append(x)\n",
        "  return lista"
      ],
      "metadata": {
        "id": "JBZP-eeEnHpl"
      },
      "execution_count": 22,
      "outputs": []
    },
    {
      "cell_type": "code",
      "source": [
        "# Se ejecuta 50,000 veces el metodo de aceptacion\n",
        "k = 50000\n",
        "d = aceptacion(k)"
      ],
      "metadata": {
        "id": "5xQ1gUX_p_JE"
      },
      "execution_count": 23,
      "outputs": []
    },
    {
      "cell_type": "code",
      "source": [
        "# Se hace el histograma de los valores generados de\n",
        "# x que estan en la lista, y se grafica el triangulo,\n",
        "# para ver que en efecto se sigue una distribucion triangular\n",
        "plt.hist(d, bins=100, density=True, color = \"green\", alpha=0.4, label='Histograma')\n",
        "x_vals = np.linspace(a, c, 500)\n",
        "f_vals = [f(x) for x in x_vals]\n",
        "plt.plot(x_vals, f_vals, color='red', label='Distribución Triangular teórica')\n",
        "plt.title('Distribución Triangular con a=1, b=3, c=5')\n",
        "plt.xlabel('x')\n",
        "plt.ylabel('Densidad')\n",
        "plt.legend()\n",
        "plt.grid(True)\n",
        "plt.show()"
      ],
      "metadata": {
        "colab": {
          "base_uri": "https://localhost:8080/",
          "height": 472
        },
        "id": "mcCr3Cjop70c",
        "outputId": "3695387e-adfb-4795-e579-7e7b94e981db"
      },
      "execution_count": 24,
      "outputs": [
        {
          "output_type": "display_data",
          "data": {
            "text/plain": [
              "<Figure size 640x480 with 1 Axes>"
            ],
            "image/png": "[encoded data removed]"
          },
          "metadata": {}
        }
      ]
    },
    {
      "cell_type": "code",
      "source": [
        "# Con la lista almacenada en la variable d\n",
        "# se calcula el valor aproximado de la media y la varianza\n",
        "print(\"Media aproximada: \", np.mean(d))\n",
        "print(\"Varianza aproximada: \", np.var(d))\n",
        "# Se calcula la exactitud de los calculos hechos mediante\n",
        "# la simulacion contra los calculos hechos analiticamente\n",
        "E_abs_med = abs(np.mean(d)-media)\n",
        "E_abs_var = abs(np.var(d)-varianza)"
      ],
      "metadata": {
        "colab": {
          "base_uri": "https://localhost:8080/"
        },
        "id": "_M2vFKlDrBXe",
        "outputId": "6ac30322-fad1-4fb4-cdfc-d60f3fb8cec7"
      },
      "execution_count": 25,
      "outputs": [
        {
          "output_type": "stream",
          "name": "stdout",
          "text": [
            "Media aproximada:  2.997952622903948\n",
            "Varianza aproximada:  0.6643288506380512\n"
          ]
        }
      ]
    },
    {
      "cell_type": "code",
      "source": [
        "print(\"El error absoluto de la media son: \", E_abs_med)\n",
        "print(\"El porcentaje de aceptacion de la media es: \", abs(np.mean(d)/media)*100, \"%\")\n",
        "print(\"El error absoluto de la varianza son: \", E_abs_var)\n",
        "print(\"El porcentaje de aceptacion de la varianza es: \", abs(np.var(d)/varianza)*100, \"%\")"
      ],
      "metadata": {
        "colab": {
          "base_uri": "https://localhost:8080/"
        },
        "id": "lz4LvXaPQF-0",
        "outputId": "d5a54dd7-7a31-45e0-cc1f-d7ef55e1d2f9"
      },
      "execution_count": 36,
      "outputs": [
        {
          "output_type": "stream",
          "name": "stdout",
          "text": [
            "El error absoluto de la media son:  0.00204737709605185\n",
            "El porcentaje de aceptacion de la media es:  99.9317540967983 %\n",
            "El error absoluto de la varianza son:  0.00233781602861538\n",
            "El porcentaje de aceptacion de la varianza es:  99.6493275957077 %\n"
          ]
        }
      ]
    },
    {
      "cell_type": "code",
      "source": [
        "# Se ve la longitud de la lista, y como solo\n",
        "# se agregan valores de x a la lista que cumplieran\n",
        "# con la simulacion, por lo tanto sera el numero de\n",
        "#veces que la simulacion tuvo exito\n",
        "print(\"El numero de veces que la simulacion tuvo exito son: \", len(d))\n",
        "print(\"De un total de \", k, \"veces\")\n",
        "print(\"El promedio de veces que se tuvo exito es de: \", (len(d)/k) *100, \"%\")"
      ],
      "metadata": {
        "id": "f-2TZPfNrJbt",
        "outputId": "5eeebe8e-4684-4de7-b5d4-2b1766b08ac2",
        "colab": {
          "base_uri": "https://localhost:8080/"
        }
      },
      "execution_count": 37,
      "outputs": [
        {
          "output_type": "stream",
          "name": "stdout",
          "text": [
            "El numero de veces que la simulacion tuvo exito son:  24961\n",
            "De un total de  50000 veces\n",
            "El promedio de veces que se tuvo exito es de:  49.922 %\n"
          ]
        }
      ]
    }
  ]
}